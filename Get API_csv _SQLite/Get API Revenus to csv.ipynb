{
 "cells": [
  {
   "cell_type": "code",
   "execution_count": 26,
   "id": "80ce535b",
   "metadata": {},
   "outputs": [
    {
     "name": "stdout",
     "output_type": "stream",
     "text": [
      "\n",
      "79 Record Transferred\n"
     ]
    }
   ],
   "source": [
    "import requests\n",
    "import json\n",
    "import pandas as pd\n",
    "import sqlite3\n",
    "res_DC =  requests.get('https://financialmodelingprep.com/api/v3/historical-price-full/stock_dividend/AAPL?apikey=4288ecdd5303c3fef6ec76b2d013f9c0')\n",
    "json_dict = json.loads(res_DC.text)\n",
    "##print(json_dict)\n",
    "Data = []\n",
    "##df = df['symbol'].head(4)\n",
    "df_historical = pd.json_normalize(json_dict,record_path =['historical']) \n",
    "df_historical.to_csv('RevenueGeographicSegments_data.csv')\n",
    "df_historical.head()\n",
    "#df_historical.dtypes\n",
    "connection = sqlite3.connect(\"SQLite.db\")\n",
    "cursor = connection.cursor()\n",
    "\n",
    "with open('RevenueGeographicSegments_data.csv','r') as file:\n",
    "        no_records = 0\n",
    "        for row in file:\n",
    "            sqlite_create = '''CREATE TABLE 'RevenueGeographicSegments_data (\n",
    "                                date  DATE,\n",
    "                                label VARCHAR2(50),\n",
    "                                adjDividend float(70),\n",
    "                                dividend float(70),\n",
    "                                recordDate DATE),\n",
    "                                paymentDate DATE,\n",
    "                                declarationDate DATE);'''\n",
    "            cursor = connection.cursor()\n",
    "        #   cursor.execute(sqlite_create)\n",
    "            sqlite_insert = '''INSERT INTO RevenueGeographicSegments_data ( \n",
    "                                    date , label ,adjDividend ,dividend , recordDate ,paymentDate ,declarationDate )\n",
    "                          VALUES (:1,:2,:3,:4,:5,:6,:7);'''\n",
    "            df = pd.read_csv('RevenueGeographicSegments_data.csv', index_col=[0])\n",
    "            df_list = df.fillna('').values.tolist()\n",
    "           #cursor.executemany(sqlite_insert,df_list)\n",
    "            connection.commit()\n",
    "            no_records +=1\n",
    "connection.close()\n",
    "print('\\n{} Record Transferred'.format(no_records))"
   ]
  }
 ],
 "metadata": {
  "kernelspec": {
   "display_name": "Python 3 (ipykernel)",
   "language": "python",
   "name": "python3"
  },
  "language_info": {
   "codemirror_mode": {
    "name": "ipython",
    "version": 3
   },
   "file_extension": ".py",
   "mimetype": "text/x-python",
   "name": "python",
   "nbconvert_exporter": "python",
   "pygments_lexer": "ipython3",
   "version": "3.9.12"
  }
 },
 "nbformat": 4,
 "nbformat_minor": 5
}
