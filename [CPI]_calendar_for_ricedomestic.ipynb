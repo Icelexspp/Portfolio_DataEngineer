{
 "cells": [
  {
   "cell_type": "code",
   "execution_count": null,
   "id": "64c45eec-3352-4bde-a93f-ff2772475db4",
   "metadata": {},
   "outputs": [],
   "source": [
    "import pandas as pd\n",
    "import numpy as np\n",
    "from datetime import datetime, timedelta\n",
    "import csv\n",
    "start_date = datetime(2024, 1, 1)\n",
    "end_date = datetime(2027, 12, 31)\n",
    "date_list = pd.date_range(start_date, end_date,freq='D')\n",
    "calendar = pd.DataFrame()\n",
    "calendar['date'] = date_list\n",
    "calendar['years'] = calendar['date'].dt.year\n",
    "calendar['quarter'] = 'Q' + calendar['date'].dt.quarter.astype(str)\n",
    "calendar['month_no'] = 'M' + calendar['date'].dt.month.astype(str).apply(lambda x: '0' + x if(len(x) == 1) else x)\n",
    "calendar['months'] = calendar['date'].dt.month_name()\n",
    "calendar['day'] = calendar['date'].dt.strftime('%e-%b-%y')\n",
    "calendar['day'] = calendar['day'].str.strip()\n",
    "calendar['day_name'] = calendar['date'].dt.day_name()\n",
    "# calendar['week_of_year'] = calendar['date'].dt.weekofyear\n",
    "calendar['week_of_year'] = calendar['date'].dt.isocalendar().week\n",
    "calendar['time_id'] = calendar['years'].astype(str) + calendar['months'].apply(lambda x: x[:3].upper()) + calendar['date'].astype(str).apply(lambda x: x[-2:])\n",
    "calendar['year_week'] = calendar['years'].astype(str) + calendar['week_of_year'].astype(str).apply(lambda x: '0' + x if(len(x) == 1) else x)\n",
    "calendar['weeks'] = 'W' + calendar['week_of_year'].astype(str).apply(lambda x: '0' + x if(len(x) == 1) else x)\n",
    "calendar['mon_yyyy'] = calendar['months'].apply(lambda x: x[:3]) + '-' + calendar['years'].astype(str).str[-2:]\n",
    "calendar['yyyy_mm'] = calendar['years'].astype(str) + calendar['date'].dt.month.astype(str).apply(lambda x: '0' + x if(len(x) == 1) else x)\n",
    "calendar['q_yyyy'] = calendar['quarter'] + '-' + calendar['years'].astype(str)\n",
    "calendar['yyyyq'] = calendar['years'].astype(str) + calendar['date'].dt.quarter.astype(str)\n",
    "calendar['create_by'] = 'manual'\n",
    "calendar['entry_date'] = pd.Timestamp.now(tz='Asia/Bangkok').strftime('%Y-%m-%d %X.000')\n",
    "calendar['update_date'] = calendar['entry_date']\n",
    "calendar['deleted'] = False\n",
    "calendar['date'] = calendar['date'].dt.strftime('%Y-%m-%d 00:00:00.000')\n",
    "calendar['cpi_holiday'] = calendar['day_name'].apply(lambda x: 0 if(x == 'Sunday') else 1)\n",
    "calendar['cashvan_holiday'] = calendar['cpi_holiday']"
   ]
  },
  {
   "cell_type": "code",
   "execution_count": null,
   "id": "92271a16-4c22-4f02-9c85-a697a0e8b081",
   "metadata": {},
   "outputs": [],
   "source": [
    "output_calendar = calendar[['time_id','day','day_name','year_week','weeks','months','quarter','years','entry_date','update_date','month_no','date','mon_yyyy','yyyy_mm','q_yyyy','yyyyq','cpi_holiday','cashvan_holiday']]"
   ]
  },
  {
   "cell_type": "code",
   "execution_count": null,
   "id": "4beb31e5-ac0a-4457-a224-4de776201073",
   "metadata": {},
   "outputs": [],
   "source": [
    "output_calendar.astype({'year_week': 'int32','years':'int32','yyyy_mm':'int32','yyyyq':'int32'}).dtypes"
   ]
  },
  {
   "cell_type": "code",
   "execution_count": null,
   "id": "a0f76c0b-80c7-48d1-9c2c-85decd57319b",
   "metadata": {},
   "outputs": [],
   "source": [
    "output_calendar"
   ]
  },
  {
   "cell_type": "code",
   "execution_count": null,
   "id": "c08394e6-35fa-490a-bc4c-1b24e27bb432",
   "metadata": {},
   "outputs": [],
   "source": [
    "output_calendar.to_csv('caldendar.csv',index=False,quoting=csv.QUOTE_NONNUMERIC)"
   ]
  }
 ],
 "metadata": {
  "kernelspec": {
   "display_name": "Python 3 (ipykernel)",
   "language": "python",
   "name": "python3"
  },
  "language_info": {
   "codemirror_mode": {
    "name": "ipython",
    "version": 3
   },
   "file_extension": ".py",
   "mimetype": "text/x-python",
   "name": "python",
   "nbconvert_exporter": "python",
   "pygments_lexer": "ipython3",
   "version": "3.11.4"
  }
 },
 "nbformat": 4,
 "nbformat_minor": 5
}
